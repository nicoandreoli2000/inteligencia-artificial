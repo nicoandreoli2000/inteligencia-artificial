{
 "cells": [
  {
   "cell_type": "code",
   "execution_count": 1,
   "metadata": {},
   "outputs": [],
   "source": [
    "import sys\n",
    "# !{sys.executable} -m pip install -U gym"
   ]
  },
  {
   "cell_type": "code",
   "execution_count": 2,
   "metadata": {},
   "outputs": [
    {
     "ename": "ModuleNotFoundError",
     "evalue": "No module named 'graphviz'",
     "output_type": "error",
     "traceback": [
      "\u001b[0;31m---------------------------------------------------------------------------\u001b[0m",
      "\u001b[0;31mModuleNotFoundError\u001b[0m                       Traceback (most recent call last)",
      "Cell \u001b[0;32mIn[2], line 3\u001b[0m\n\u001b[1;32m      1\u001b[0m \u001b[39mfrom\u001b[39;00m \u001b[39mriverCrossEnv\u001b[39;00m \u001b[39mimport\u001b[39;00m RiverCrossEnv\n\u001b[1;32m      2\u001b[0m \u001b[39mfrom\u001b[39;00m \u001b[39mriverCrossUtils\u001b[39;00m \u001b[39mimport\u001b[39;00m finish, win\n\u001b[0;32m----> 3\u001b[0m \u001b[39mfrom\u001b[39;00m \u001b[39mriverCrossGraph\u001b[39;00m \u001b[39mimport\u001b[39;00m RiverCrossGraph\n\u001b[1;32m      4\u001b[0m \u001b[39mimport\u001b[39;00m \u001b[39mriverCrossInputAgent\u001b[39;00m \u001b[39mas\u001b[39;00m \u001b[39magent\u001b[39;00m\n",
      "File \u001b[0;32m~/Documents/ort/inteligencia-artificial/river-cross/riverCrossGraph.py:2\u001b[0m\n\u001b[1;32m      1\u001b[0m \u001b[39mfrom\u001b[39;00m \u001b[39mIPython\u001b[39;00m\u001b[39m.\u001b[39;00m\u001b[39mdisplay\u001b[39;00m \u001b[39mimport\u001b[39;00m display, Image, clear_output\n\u001b[0;32m----> 2\u001b[0m \u001b[39mfrom\u001b[39;00m \u001b[39mgraphviz\u001b[39;00m \u001b[39mimport\u001b[39;00m Digraph\n\u001b[1;32m      4\u001b[0m \u001b[39mclass\u001b[39;00m \u001b[39mRiverCrossGraph\u001b[39;00m() :\n\u001b[1;32m      6\u001b[0m     \u001b[39mdef\u001b[39;00m \u001b[39m__init__\u001b[39m(\u001b[39mself\u001b[39m, width\u001b[39m=\u001b[39m\u001b[39m500\u001b[39m, height\u001b[39m=\u001b[39m\u001b[39m500\u001b[39m) :\n",
      "\u001b[0;31mModuleNotFoundError\u001b[0m: No module named 'graphviz'"
     ]
    }
   ],
   "source": [
    "from riverCrossEnv import RiverCrossEnv\n",
    "from riverCrossUtils import finish, win\n",
    "from riverCrossGraph import RiverCrossGraph\n",
    "import riverCrossInputAgent as agent"
   ]
  },
  {
   "cell_type": "code",
   "execution_count": null,
   "metadata": {},
   "outputs": [],
   "source": [
    "def run():\n",
    "    \n",
    "    env = RiverCrossEnv()\n",
    "    g = RiverCrossGraph(1500, 200)\n",
    "    \n",
    "    done = False\n",
    "    obs = env.reset()\n",
    "    g.render_node(env, obs)\n",
    "    \n",
    "    while (not(done)):\n",
    "        env.render()\n",
    "        action = agent.input_action()        \n",
    "        next_obs, reward, done, debug = env.step(action)\n",
    "        g.render_edge(env, obs, next_obs, action, done, win(next_obs))\n",
    "        obs = next_obs\n",
    "       \n",
    "    env.render()\n",
    "    finish(obs)"
   ]
  },
  {
   "cell_type": "code",
   "execution_count": null,
   "metadata": {
    "scrolled": false,
    "slideshow": {
     "slide_type": "fragment"
    }
   },
   "outputs": [],
   "source": [
    "run()"
   ]
  }
 ],
 "metadata": {
  "kernelspec": {
   "display_name": "Python 3",
   "language": "python",
   "name": "python3"
  },
  "language_info": {
   "codemirror_mode": {
    "name": "ipython",
    "version": 3
   },
   "file_extension": ".py",
   "mimetype": "text/x-python",
   "name": "python",
   "nbconvert_exporter": "python",
   "pygments_lexer": "ipython3",
   "version": "3.10.9"
  }
 },
 "nbformat": 4,
 "nbformat_minor": 2
}
