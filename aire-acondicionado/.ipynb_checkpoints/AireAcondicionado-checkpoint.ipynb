{
 "cells": [
  {
   "cell_type": "code",
   "execution_count": 1,
   "metadata": {},
   "outputs": [],
   "source": [
    "import gym\n",
    "import numpy as np\n",
    "from gym import error, spaces, utils, Env\n",
    "import matplotlib.pyplot as plt\n",
    "from sklearn.metrics import mean_squared_error, mean_absolute_error"
   ]
  },
  {
   "cell_type": "markdown",
   "metadata": {},
   "source": [
    "# Descripción del problema\n",
    "\n",
    "El siguiente ejemplo consiste en un Ambiente (Room). La temperatura de la habitación cambia debido a la temperatura externa ambiente (se asume de forma desconocida). La habitación cuenta con un equipo de Aire Acondicionado controlado por un Agente. El objetivo de este Agente es mantener la temperatura en 0 grados. El Aire Acondicionado puede cambiar la temperatura en 0, 1, 2 o 3 grados ya sea frío o calor."
   ]
  },
  {
   "cell_type": "markdown",
   "metadata": {},
   "source": [
    "# Ambiente\n",
    "\n",
    "El ambiente (Room) está simulado por el siguiente código"
   ]
  },
  {
   "cell_type": "code",
   "execution_count": 2,
   "metadata": {},
   "outputs": [],
   "source": [
    "class Room(Env):\n",
    "    \n",
    "    def __init__(self):\n",
    "        self.observation_space = spaces.Box(low=-20, high=40, shape=(), dtype=np.float32)\n",
    "        self.action_space = spaces.Discrete(7, start=-3)\n",
    "                  \n",
    "    def reset(self):\n",
    "        self.step_count = 0\n",
    "        self.initial_random = self.observation_space.sample()\n",
    "        self.external_temp = 0\n",
    "        self.external_temp = self._temp_variation()\n",
    "        self.temp = self.external_temp\n",
    "        return self.temp\n",
    "    \n",
    "    def step(self, action):\n",
    "        delta_temp = self._temp_variation()\n",
    "        self.external_temp += delta_temp\n",
    "        self.temp += delta_temp + action\n",
    "        self.step_count += 1\n",
    "        return self.temp\n",
    "\n",
    "    def _temp_variation(self):\n",
    "        x = self.initial_random + self.step_count\n",
    "        return np.float64('%.2f'%(20 * np.sin(x/10))) - self.external_temp \n",
    "          "
   ]
  },
  {
   "cell_type": "markdown",
   "metadata": {},
   "source": [
    "# Test Room"
   ]
  },
  {
   "cell_type": "code",
   "execution_count": 3,
   "metadata": {},
   "outputs": [],
   "source": [
    "env = Room()"
   ]
  },
  {
   "cell_type": "code",
   "execution_count": 4,
   "metadata": {},
   "outputs": [
    {
     "data": {
      "text/plain": [
       "Box(-20.0, 40.0, (), float32)"
      ]
     },
     "execution_count": 4,
     "metadata": {},
     "output_type": "execute_result"
    }
   ],
   "source": [
    "env.observation_space"
   ]
  },
  {
   "cell_type": "code",
   "execution_count": 5,
   "metadata": {},
   "outputs": [
    {
     "data": {
      "text/plain": [
       "array(36.722652, dtype=float32)"
      ]
     },
     "execution_count": 5,
     "metadata": {},
     "output_type": "execute_result"
    }
   ],
   "source": [
    "env.observation_space.sample()"
   ]
  },
  {
   "cell_type": "code",
   "execution_count": 6,
   "metadata": {},
   "outputs": [
    {
     "data": {
      "text/plain": [
       "Discrete(7, start=-3)"
      ]
     },
     "execution_count": 6,
     "metadata": {},
     "output_type": "execute_result"
    }
   ],
   "source": [
    "env.action_space"
   ]
  },
  {
   "cell_type": "code",
   "execution_count": 7,
   "metadata": {},
   "outputs": [
    {
     "data": {
      "text/plain": [
       "-3"
      ]
     },
     "execution_count": 7,
     "metadata": {},
     "output_type": "execute_result"
    }
   ],
   "source": [
    "env.action_space.sample()"
   ]
  },
  {
   "cell_type": "code",
   "execution_count": 8,
   "metadata": {},
   "outputs": [
    {
     "data": {
      "text/plain": [
       "-19.98"
      ]
     },
     "execution_count": 8,
     "metadata": {},
     "output_type": "execute_result"
    }
   ],
   "source": [
    "env.reset()"
   ]
  },
  {
   "cell_type": "markdown",
   "metadata": {},
   "source": [
    "# Reflex Agente\n",
    "\n",
    "Esta es la implementación de un Agente Reflejo Simple, que dada la observación (temperatura de la habitación), toma una acción de enfriar o calentar en 0, 1, 2 o 3 grados. El agente solo enfría o calienta si la temperatura difiere en más de 2 grados."
   ]
  },
  {
   "cell_type": "code",
   "execution_count": 9,
   "metadata": {},
   "outputs": [],
   "source": [
    "class AgentReflex():\n",
    "\n",
    "    def lookup(self, obs):\n",
    "        if obs > 9:\n",
    "            return -3\n",
    "        elif obs > 5:\n",
    "            return -2\n",
    "        elif obs > 2:\n",
    "            return -1\n",
    "        elif obs < -2:\n",
    "            return 1\n",
    "        elif obs < -5:\n",
    "            return 2\n",
    "        elif obs < -9:\n",
    "            return 3\n",
    "        else:\n",
    "            return 0"
   ]
  },
  {
   "cell_type": "markdown",
   "metadata": {},
   "source": [
    "# Test Reflex"
   ]
  },
  {
   "cell_type": "code",
   "execution_count": 10,
   "metadata": {},
   "outputs": [],
   "source": [
    "agent = AgentReflex()"
   ]
  },
  {
   "cell_type": "code",
   "execution_count": 11,
   "metadata": {},
   "outputs": [],
   "source": [
    "obs = env.reset()\n",
    "external_res = []\n",
    "agent_res = []\n",
    "total_steps = 100"
   ]
  },
  {
   "cell_type": "code",
   "execution_count": 12,
   "metadata": {},
   "outputs": [
    {
     "name": "stdout",
     "output_type": "stream",
     "text": [
      "External: -11.15 \n",
      " Prev. Obs: -11.15 -> Action: 1 -> Room: -10.15\n",
      "External: -11.15 \n",
      " Prev. Obs: -10.15 -> Action: 1 -> Room: -10.76\n",
      "External: -12.76 \n",
      " Prev. Obs: -10.76 -> Action: 1 -> Room: -11.23\n",
      "External: -14.23 \n",
      " Prev. Obs: -11.23 -> Action: 1 -> Room: -11.56\n",
      "External: -15.56 \n",
      " Prev. Obs: -11.56 -> Action: 1 -> Room: -11.739999999999998\n",
      "External: -16.74 \n",
      " Prev. Obs: -11.739999999999998 -> Action: 1 -> Room: -11.75\n",
      "External: -17.75 \n",
      " Prev. Obs: -11.75 -> Action: 1 -> Room: -11.579999999999998\n",
      "External: -18.58 \n",
      " Prev. Obs: -11.579999999999998 -> Action: 1 -> Room: -11.23\n",
      "External: -19.23 \n",
      " Prev. Obs: -11.23 -> Action: 1 -> Room: -10.68\n",
      "External: -19.68 \n",
      " Prev. Obs: -10.68 -> Action: 1 -> Room: -9.940000000000001\n",
      "External: -19.94 \n",
      " Prev. Obs: -9.940000000000001 -> Action: 1 -> Room: -9.0\n",
      "External: -20.0 \n",
      " Prev. Obs: -9.0 -> Action: 1 -> Room: -7.850000000000001\n",
      "External: -19.85 \n",
      " Prev. Obs: -7.850000000000001 -> Action: 1 -> Room: -6.510000000000002\n",
      "External: -19.51 \n",
      " Prev. Obs: -6.510000000000002 -> Action: 1 -> Room: -4.98\n",
      "External: -18.98 \n",
      " Prev. Obs: -4.98 -> Action: 1 -> Room: -3.2600000000000016\n",
      "External: -18.26 \n",
      " Prev. Obs: -3.2600000000000016 -> Action: 1 -> Room: -1.3500000000000014\n",
      "External: -17.35 \n",
      " Prev. Obs: -1.3500000000000014 -> Action: 0 -> Room: -0.2699999999999996\n",
      "External: -16.27 \n",
      " Prev. Obs: -0.2699999999999996 -> Action: 0 -> Room: 0.9700000000000006\n",
      "External: -15.03 \n",
      " Prev. Obs: 0.9700000000000006 -> Action: 0 -> Room: 2.369999999999999\n",
      "External: -13.63 \n",
      " Prev. Obs: 2.369999999999999 -> Action: -1 -> Room: 2.9000000000000004\n",
      "External: -12.1 \n",
      " Prev. Obs: 2.9000000000000004 -> Action: -1 -> Room: 3.5500000000000007\n",
      "External: -10.45 \n",
      " Prev. Obs: 3.5500000000000007 -> Action: -1 -> Room: 4.300000000000001\n",
      "External: -8.7 \n",
      " Prev. Obs: 4.300000000000001 -> Action: -1 -> Room: 5.14\n",
      "External: -6.86 \n",
      " Prev. Obs: 5.14 -> Action: -2 -> Room: 5.05\n",
      "External: -4.95 \n",
      " Prev. Obs: 5.05 -> Action: -2 -> Room: 5.01\n",
      "External: -2.99 \n",
      " Prev. Obs: 5.01 -> Action: -2 -> Room: 5.0\n",
      "External: -1.0 \n",
      " Prev. Obs: 5.0 -> Action: -1 -> Room: 6.0\n",
      "External: 1.0 \n",
      " Prev. Obs: 6.0 -> Action: -2 -> Room: 5.99\n",
      "External: 2.99 \n",
      " Prev. Obs: 5.99 -> Action: -2 -> Room: 5.95\n",
      "External: 4.95 \n",
      " Prev. Obs: 5.95 -> Action: -2 -> Room: 5.86\n",
      "External: 6.86 \n",
      " Prev. Obs: 5.86 -> Action: -2 -> Room: 5.699999999999999\n",
      "External: 8.7 \n",
      " Prev. Obs: 5.699999999999999 -> Action: -2 -> Room: 5.449999999999999\n",
      "External: 10.45 \n",
      " Prev. Obs: 5.449999999999999 -> Action: -2 -> Room: 5.1\n",
      "External: 12.1 \n",
      " Prev. Obs: 5.1 -> Action: -2 -> Room: 4.630000000000001\n",
      "External: 13.63 \n",
      " Prev. Obs: 4.630000000000001 -> Action: -1 -> Room: 5.029999999999999\n",
      "External: 15.03 \n",
      " Prev. Obs: 5.029999999999999 -> Action: -2 -> Room: 4.27\n",
      "External: 16.27 \n",
      " Prev. Obs: 4.27 -> Action: -1 -> Room: 4.350000000000001\n",
      "External: 17.35 \n",
      " Prev. Obs: 4.350000000000001 -> Action: -1 -> Room: 4.260000000000002\n",
      "External: 18.26 \n",
      " Prev. Obs: 4.260000000000002 -> Action: -1 -> Room: 3.9800000000000004\n",
      "External: 18.98 \n",
      " Prev. Obs: 3.9800000000000004 -> Action: -1 -> Room: 3.5100000000000016\n",
      "External: 19.51 \n",
      " Prev. Obs: 3.5100000000000016 -> Action: -1 -> Room: 2.8500000000000014\n",
      "External: 19.85 \n",
      " Prev. Obs: 2.8500000000000014 -> Action: -1 -> Room: 2.0\n",
      "External: 20.0 \n",
      " Prev. Obs: 2.0 -> Action: 0 -> Room: 1.9400000000000013\n",
      "External: 19.94 \n",
      " Prev. Obs: 1.9400000000000013 -> Action: 0 -> Room: 1.6799999999999997\n",
      "External: 19.68 \n",
      " Prev. Obs: 1.6799999999999997 -> Action: 0 -> Room: 1.2300000000000004\n",
      "External: 19.23 \n",
      " Prev. Obs: 1.2300000000000004 -> Action: 0 -> Room: 0.5799999999999983\n",
      "External: 18.58 \n",
      " Prev. Obs: 0.5799999999999983 -> Action: 0 -> Room: -0.25\n",
      "External: 17.75 \n",
      " Prev. Obs: -0.25 -> Action: 0 -> Room: -1.2600000000000016\n",
      "External: 16.74 \n",
      " Prev. Obs: -1.2600000000000016 -> Action: 0 -> Room: -2.4399999999999995\n",
      "External: 15.56 \n",
      " Prev. Obs: -2.4399999999999995 -> Action: 1 -> Room: -2.7699999999999996\n",
      "External: 14.23 \n",
      " Prev. Obs: -2.7699999999999996 -> Action: 1 -> Room: -3.25\n",
      "External: 12.75 \n",
      " Prev. Obs: -3.25 -> Action: 1 -> Room: -3.8499999999999996\n",
      "External: 11.15 \n",
      " Prev. Obs: -3.8499999999999996 -> Action: 1 -> Room: -4.5600000000000005\n",
      "External: 9.44 \n",
      " Prev. Obs: -4.5600000000000005 -> Action: 1 -> Room: -5.37\n",
      "External: 7.63 \n",
      " Prev. Obs: -5.37 -> Action: 1 -> Room: -6.25\n",
      "External: 5.75 \n",
      " Prev. Obs: -6.25 -> Action: 1 -> Room: -7.1899999999999995\n",
      "External: 3.81 \n",
      " Prev. Obs: -7.1899999999999995 -> Action: 1 -> Room: -8.17\n",
      "External: 1.83 \n",
      " Prev. Obs: -8.17 -> Action: 1 -> Room: -9.17\n",
      "External: -0.16999999999999993 \n",
      " Prev. Obs: -9.17 -> Action: 1 -> Room: -10.16\n",
      "External: -2.16 \n",
      " Prev. Obs: -10.16 -> Action: 1 -> Room: -11.14\n",
      "External: -4.14 \n",
      " Prev. Obs: -11.14 -> Action: 1 -> Room: -12.07\n",
      "External: -6.07 \n",
      " Prev. Obs: -12.07 -> Action: 1 -> Room: -12.940000000000001\n",
      "External: -7.94 \n",
      " Prev. Obs: -12.940000000000001 -> Action: 1 -> Room: -13.740000000000002\n",
      "External: -9.74 \n",
      " Prev. Obs: -13.740000000000002 -> Action: 1 -> Room: -14.430000000000001\n",
      "External: -11.43 \n",
      " Prev. Obs: -14.430000000000001 -> Action: 1 -> Room: -15.010000000000002\n",
      "External: -13.01 \n",
      " Prev. Obs: -15.010000000000002 -> Action: 1 -> Room: -15.460000000000003\n",
      "External: -14.46 \n",
      " Prev. Obs: -15.460000000000003 -> Action: 1 -> Room: -15.770000000000001\n",
      "External: -15.77 \n",
      " Prev. Obs: -15.770000000000001 -> Action: 1 -> Room: -15.920000000000003\n",
      "External: -16.92 \n",
      " Prev. Obs: -15.920000000000003 -> Action: 1 -> Room: -15.9\n",
      "External: -17.9 \n",
      " Prev. Obs: -15.9 -> Action: 1 -> Room: -15.700000000000001\n",
      "External: -18.7 \n",
      " Prev. Obs: -15.700000000000001 -> Action: 1 -> Room: -15.320000000000002\n",
      "External: -19.32 \n",
      " Prev. Obs: -15.320000000000002 -> Action: 1 -> Room: -14.74\n",
      "External: -19.74 \n",
      " Prev. Obs: -14.74 -> Action: 1 -> Room: -13.960000000000003\n",
      "External: -19.96 \n",
      " Prev. Obs: -13.960000000000003 -> Action: 1 -> Room: -12.99\n",
      "External: -19.99 \n",
      " Prev. Obs: -12.99 -> Action: 1 -> Room: -11.81\n",
      "External: -19.81 \n",
      " Prev. Obs: -11.81 -> Action: 1 -> Room: -10.440000000000003\n",
      "External: -19.44 \n",
      " Prev. Obs: -10.440000000000003 -> Action: 1 -> Room: -8.870000000000003\n",
      "External: -18.87 \n",
      " Prev. Obs: -8.870000000000003 -> Action: 1 -> Room: -7.120000000000003\n",
      "External: -18.12 \n",
      " Prev. Obs: -7.120000000000003 -> Action: 1 -> Room: -5.1800000000000015\n",
      "External: -17.18 \n",
      " Prev. Obs: -5.1800000000000015 -> Action: 1 -> Room: -3.070000000000002\n",
      "External: -16.07 \n",
      " Prev. Obs: -3.070000000000002 -> Action: 1 -> Room: -0.8000000000000025\n",
      "External: -14.8 \n",
      " Prev. Obs: -0.8000000000000025 -> Action: 0 -> Room: 0.6199999999999974\n",
      "External: -13.38 \n",
      " Prev. Obs: 0.6199999999999974 -> Action: 0 -> Room: 2.169999999999998\n",
      "External: -11.83 \n",
      " Prev. Obs: 2.169999999999998 -> Action: -1 -> Room: 2.8299999999999983\n",
      "External: -10.17 \n",
      " Prev. Obs: 2.8299999999999983 -> Action: -1 -> Room: 3.6099999999999977\n",
      "External: -8.39 \n",
      " Prev. Obs: 3.6099999999999977 -> Action: -1 -> Room: 4.459999999999998\n",
      "External: -6.54 \n",
      " Prev. Obs: 4.459999999999998 -> Action: -1 -> Room: 5.379999999999998\n",
      "External: -4.62 \n",
      " Prev. Obs: 5.379999999999998 -> Action: -2 -> Room: 5.339999999999998\n",
      "External: -2.66 \n",
      " Prev. Obs: 5.339999999999998 -> Action: -2 -> Room: 5.339999999999998\n",
      "External: -0.6600000000000001 \n",
      " Prev. Obs: 5.339999999999998 -> Action: -2 -> Room: 5.339999999999998\n",
      "External: 1.3399999999999999 \n",
      " Prev. Obs: 5.339999999999998 -> Action: -2 -> Room: 5.3199999999999985\n",
      "External: 3.32 \n",
      " Prev. Obs: 5.3199999999999985 -> Action: -2 -> Room: 5.269999999999998\n",
      "External: 5.27 \n",
      " Prev. Obs: 5.269999999999998 -> Action: -2 -> Room: 5.169999999999998\n",
      "External: 7.17 \n",
      " Prev. Obs: 5.169999999999998 -> Action: -2 -> Room: 4.999999999999998\n",
      "External: 9.0 \n",
      " Prev. Obs: 4.999999999999998 -> Action: -1 -> Room: 5.739999999999998\n",
      "External: 10.74 \n",
      " Prev. Obs: 5.739999999999998 -> Action: -2 -> Room: 5.369999999999997\n",
      "External: 12.37 \n",
      " Prev. Obs: 5.369999999999997 -> Action: -2 -> Room: 4.879999999999999\n",
      "External: 13.88 \n",
      " Prev. Obs: 4.879999999999999 -> Action: -1 -> Room: 5.249999999999998\n",
      "External: 15.25 \n",
      " Prev. Obs: 5.249999999999998 -> Action: -2 -> Room: 4.459999999999999\n",
      "External: 16.46 \n",
      " Prev. Obs: 4.459999999999999 -> Action: -1 -> Room: 4.51\n"
     ]
    }
   ],
   "source": [
    "for i in range(0, total_steps):  \n",
    "    \n",
    "    # solamente para evaluar la evolución de la temperatura de la habitación con y sin agente\n",
    "    # la temperatura de la habitación sin el agente es igual a la temperatura exterior\n",
    "    \n",
    "    external_temp = env.external_temp\n",
    "    external_res.append(external_temp)\n",
    "    \n",
    "    # decisión y acción del agente\n",
    "    \n",
    "    prev_obs = obs\n",
    "    action = agent.lookup(obs)\n",
    "    obs = env.step(action)\n",
    "    agent_res.append(obs)  \n",
    "    \n",
    "    print('External:', external_temp, '\\n','Prev. Obs:', prev_obs, '-> Action:', action, '-> Room:', obs)"
   ]
  },
  {
   "cell_type": "markdown",
   "metadata": {},
   "source": [
    "# Graficando los resultados"
   ]
  },
  {
   "cell_type": "code",
   "execution_count": 13,
   "metadata": {},
   "outputs": [
    {
     "data": {
      "text/plain": [
       "[<matplotlib.lines.Line2D at 0x7fbe06059250>]"
      ]
     },
     "execution_count": 13,
     "metadata": {},
     "output_type": "execute_result"
    },
    {
     "data": {
      "image/png": "[encoded data removed]",
      "text/plain": [
       "<Figure size 432x288 with 1 Axes>"
      ]
     },
     "metadata": {
      "needs_background": "light"
     },
     "output_type": "display_data"
    }
   ],
   "source": [
    "plt.axhline(color='black')                                  #Temperatura ideal\n",
    "plt.plot(range(0, total_steps), agent_res, color='red')     #Temperatura con el agente\n",
    "plt.plot(range(0, total_steps), external_res, color='blue') #Temperatura sin agente"
   ]
  },
  {
   "cell_type": "markdown",
   "metadata": {},
   "source": [
    "# Métrica de Performance\n",
    "Una posible métrica de performance, podría ser ver la temperatura media del ambiente con la acción del agente."
   ]
  },
  {
   "cell_type": "code",
   "execution_count": 14,
   "metadata": {},
   "outputs": [
    {
     "name": "stdout",
     "output_type": "stream",
     "text": [
      "Temperatura media con el agente:  -2.702000000000001\n",
      "Temperatura media sin el agente:  -2.8786000000000005\n"
     ]
    }
   ],
   "source": [
    "print(\"Temperatura media con el agente: \", np.mean(agent_res))\n",
    "print(\"Temperatura media sin el agente: \", np.mean(external_res))"
   ]
  },
  {
   "cell_type": "markdown",
   "metadata": {},
   "source": [
    "Otra posible métrica de performance, es evaluar para cada instante de tiempo (step) cuanto difiere la temperatura obtenida de la objetivo=0. Esto se puede hacer con mean_squared_error o mean_absolute_error. \n",
    "Comparemos la métrica obtenida por el agente contra la métrica obtenida sin un agente:"
   ]
  },
  {
   "cell_type": "code",
   "execution_count": 15,
   "metadata": {},
   "outputs": [
    {
     "name": "stdout",
     "output_type": "stream",
     "text": [
      "Variación media con el agente:  6.7162\n",
      "Variación media sin el agente:  12.774600000000003\n"
     ]
    }
   ],
   "source": [
    "goal_temp = np.zeros(total_steps)\n",
    "print(\"Variación media con el agente: \", mean_absolute_error(goal_temp, agent_res))\n",
    "print(\"Variación media sin el agente: \", mean_absolute_error(goal_temp, external_res))"
   ]
  },
  {
   "cell_type": "markdown",
   "metadata": {},
   "source": [
    "# Ejercicio: Model (Goal / Utility) Based Agent "
   ]
  },
  {
   "cell_type": "markdown",
   "metadata": {},
   "source": [
    "Construir un Agente basado en un modelo. \n",
    "Esto es: \n",
    "    - Construir un modelo a mano, por ejemplo un grafo, con estados y transiciones [Ver figura].\n",
    "    - Discretizar las observaciones devueltas por el ambiente mapeándolas a un estado.\n",
    "    - Tomar una decisón basada en el estado.\n",
    "    - Definir un objetivo y una utilidad\n",
    "\n",
    "Por ejemplo, el Agente podría conocer un modelo que tiene 2 estados {Frío, Calor}\n",
    "<img src=\"Modelo.png\">\n"
   ]
  },
  {
   "cell_type": "code",
   "execution_count": 1,
   "metadata": {},
   "outputs": [
    {
     "ename": "SyntaxError",
     "evalue": "incomplete input (2377218483.py, line 4)",
     "output_type": "error",
     "traceback": [
      "\u001b[0;36m  Cell \u001b[0;32mIn[1], line 4\u001b[0;36m\u001b[0m\n\u001b[0;31m    if obs > 0:\u001b[0m\n\u001b[0m               ^\u001b[0m\n\u001b[0;31mSyntaxError\u001b[0m\u001b[0;31m:\u001b[0m incomplete input\n"
     ]
    }
   ],
   "source": [
    "class ModelBased():\n",
    "\n",
    "    def lookup(self, obs):\n",
    "        if obs > 0:\n",
    "            return -1\n",
    "        else \n",
    "            return 1"
   ]
  },
  {
   "cell_type": "code",
   "execution_count": null,
   "metadata": {},
   "outputs": [],
   "source": []
  }
 ],
 "metadata": {
  "kernelspec": {
   "display_name": "Python 3 (ipykernel)",
   "language": "python",
   "name": "python3"
  },
  "language_info": {
   "codemirror_mode": {
    "name": "ipython",
    "version": 3
   },
   "file_extension": ".py",
   "mimetype": "text/x-python",
   "name": "python",
   "nbconvert_exporter": "python",
   "pygments_lexer": "ipython3",
   "version": "3.10.9"
  }
 },
 "nbformat": 4,
 "nbformat_minor": 4
}
