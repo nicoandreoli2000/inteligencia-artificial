{
 "cells": [
  {
   "cell_type": "code",
   "execution_count": null,
   "id": "ba61339e",
   "metadata": {},
   "outputs": [],
   "source": [
    "import gym\n",
    "import numpy as np\n",
    "import pandas as pd\n",
    "import sklearn as sk\n",
    "import matplotlib\n",
    "import graphviz\n",
    "\n",
    "print(\"gym: %s\" % gym.__version__)\n",
    "print(\"numpy: %s\" % np.__version__)\n",
    "print(\"pandas: %s\" % pd.__version__)\n",
    "print(\"sklearn: %s\" % sk.__version__)\n",
    "print(\"matplotlib: %s\" % matplotlib.__version__)\n",
    "print(\"graphviz: %s\" % graphviz.__version__)"
   ]
  }
 ],
 "metadata": {
  "kernelspec": {
   "display_name": "Python 3 (ipykernel)",
   "language": "python",
   "name": "python3"
  },
  "language_info": {
   "codemirror_mode": {
    "name": "ipython",
    "version": 3
   },
   "file_extension": ".py",
   "mimetype": "text/x-python",
   "name": "python",
   "nbconvert_exporter": "python",
   "pygments_lexer": "ipython3",
   "version": "3.10.9"
  }
 },
 "nbformat": 4,
 "nbformat_minor": 5
}
